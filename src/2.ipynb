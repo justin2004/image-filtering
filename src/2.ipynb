{
"cells": [

{
"cell_type": "code",
"execution_count":null,
"metadata": {},
"outputs": [],
"source":
[
 "; Welcome to a Jupyter notebook!\n"
 ]
},

{
"cell_type": "code",
"execution_count":null,
"metadata": {},
"outputs": [],
"source":
[
 "; Why are we in a Jupyter notebook?\n",
 "; \n",
 "; We will be learning, editing, and running code in this notebook.\n"
 ]
},


{
"cell_type": "code",
"execution_count":null,
"metadata": {},
"outputs": [],
"source":
[
 "; What is Jupyter?\n",
 ";\n",
 "; Computational Notebook (notebooks for code)\n"
 ]
},

{
"cell_type": "code",
"execution_count":null,
"metadata": {},
"outputs": [],
"source":
[
 "; What can you do in a Jupyter notebook?\n",
 "; \n",
 "; - look at code and the results of running the code\n",
 "; - edit the code\n",
 "; - run the code\n"
 ]
},

{
"cell_type": "code",
"execution_count":null,
"metadata": {},
"outputs": [],
"source":
[
 "; Because it is a computational notebook things are not hidden from you\n",
 ";\n",
 "; So in addition to reading notes and code you sometimes have to run cells\n",
 ";\n",
 "; You run cells by pressing ctrl-enter or (on a Mac) cmd-enter \n"
 ]
},

{
"cell_type": "code",
"execution_count":null,
"metadata": {},
"outputs": [],
"source":
[
 "; put your cursor in this cell and run it by pressing ctrl-enter\n",
 "(ql:quickload \"april\") \n",
 "(ql:quickload \"opticl\")\n",
 "(ql:quickload \"drakma\")\n",
 "(ql:quickload \"alexandria\")\n",
 "(ql:quickload \"skippy\")\n",
 "(defpackage :image-filtering \n",
 "  (:nicknames :im)\n",
 "  (:use :common-lisp :april :opticl :drakma :alexandria))\n",
 "(in-package :im)\n",
 "(load \"utils.lisp\")\n"
 ]
},

{
"cell_type": "code",
"execution_count":null,
"metadata": {},
"outputs": [],
"source":
[
 ";;;;\n",
 "; BEGIN\n",
 "; - Goals\n",
 "; - Errors will happen (show some)\n",
 "; - Ask me to walk through\n",
 "; - use paper and pencil\n",
 "; - start with a small version of the problem\n",
 "; \n",
 "; Where to learn about functions?\n",
 "; - e.g. if you want to learn about ⊂\n",
 ";   - Go to tryapl.org and type: ]help ⊂\n",
 ";;;;\n",
 "; END\n",
 "; - Use it regularly\n",
 ";   - Instead of using a calculator for math hw use APL \n",
 "; - community? orchard.\n",
 ";;;;\n"
 ]
},


{
"cell_type": "code",
"execution_count":null,
"metadata": {},
"outputs": [],
"source":
[
 "; What is APL?\n",
 ";\n",
 ";   \"A Programming Language\"\n"
 ]
},

{
"cell_type": "code",
"execution_count":null,
"metadata": {},
"outputs": [],
"source":
[
 "; APL (the langauge)\n",
 ";\n",
 ";    rules   (syntax)\n",
 ";    and\n",
 ";    meaning (semantics)\n",
 ";\n"
 ]
},

{
"cell_type": "code",
"execution_count":null,
"metadata": {},
"outputs": [],
"source":
[
 "; APLs (the versions)\n",
 "; \n",
 "; Some APLs include:\n",
 ";   Dyalog APL, GNU APL, and April APL\n"
 ]
},

{
"cell_type": "code",
"execution_count":null,
"metadata": {},
"outputs": [],
"source":
[
 "; We are using April!\n"
 ]
},

{
"cell_type": "code",
"execution_count":null,
"metadata": {},
"outputs": [],
"source":
[
 "; You can try Dyalog here: \n",
 "; https://tryapl.org/\n"
 ]
},

{
"cell_type": "code",
"execution_count":null,
"metadata": {},
"outputs": [],
"source":
[
 "; You can edit images with APL among many other things\n"
 ]
},

{
"cell_type": "code",
"execution_count":null,
"metadata": {},
"outputs": [],
"source":
[
 "; What are images?\n"
 ]
},
 
{
"cell_type": "code",
"execution_count":null,
"metadata": {},
"outputs": [],
"source":
[
 "; Is this an image?\n",
 "(april-f \"0 0 0 0 0 0 0 1 0 0 1 0 0 0 0 0 0 0 0 1 0 0 1 0 0 0 1 1 0 0\")\n"
 ]
},

{
"cell_type": "code",
"execution_count":null,
"metadata": {},
"outputs": [],
"source":
[
 "; ...about April\n",
 "; notice the -f\n",
 ";\n",
 "; I think about the -f as meaning \"friendly\"\n"
 ]
},

{
"cell_type": "code",
"execution_count":null,
"metadata": {},
"outputs": [],
"source":
[
 "; Image Representation\n",
 "(write-array (april-f \"200 × 5 6 ⍴ 0 0 0 0 0 0 0 1 0 0 1 0 0 0 0 0 0 0 0 1 0 0 1 0 0 0 1 1 0 0\"))\n"
 ]
},

{
"cell_type": "code",
"execution_count":null,
"metadata": {},
"outputs": [],
"source":
[
 "(april \"smile←200 × 5 6 ⍴ 0 0 0 0 0 0 0 1 0 0 1 0 0 0 0 0 0 0 0 1 0 0 1 0 0 0 1 1 0 0\")\n"
 ]
},

{
"cell_type": "code",
"execution_count":null,
"metadata": {},
"outputs": [],
"source":
[
 "; Because images are represented as numbers we need some math to work with them\n"
 ]
},


{
"cell_type": "code",
"execution_count":null,
"metadata": {},
"outputs": [],
"source":
[
 "; In APL, most math symbols do what you would expect them to do\n",
 ";\n",
 "; = + - ÷ × etc.\n"
 ]
},

{
"cell_type": "code",
"execution_count":null,
"metadata": {},
"outputs": [],
"source":
[
 "; APL is a small language\n"
 ]
},

{
"cell_type": "code",
"execution_count":null,
"metadata": {},
"outputs": [],
"source":
[
 "; How small?\n"
 ]
},

{
"cell_type": "code",
"execution_count":null,
"metadata": {},
"outputs": [],
"source":
[
 "; In order to see the APL symbols we need to load some javascript in your browser\n",
 "; \n",
 "; This is usually done in the \"Console\" often found in \"Developer Tools\"\n"
 ]
},

{
"cell_type": "code",
"execution_count":null,
"metadata": {},
"outputs": [],
"source":
[
 "var script = document.createElement (\"script\");\n",
 "script.src = \"https://abrudz.github.io/lb/lb.js\";\n",
 "document.body.appendChild (script);\n"
 ]
},


{
"cell_type": "code",
"execution_count":null,
"metadata": {},
"outputs": [],
"source":
[
 "; APL is designed to be mnemonic\n",
 "; \n",
 "; : assisting or intended to assist memory \n"
 ]
},



{
"cell_type": "code",
"execution_count":null,
"metadata": {},
"outputs": [],
"source":
[
 "; Behind every image on a computer there are just numbers\n",
 ";\n",
 "; For this class those numbers are: 0 through 255\n",
 "; \n",
 "; 0   is black\n",
 "; 255 is white\n",
 "; \n",
 "; What number represents gray?\n"
 ]
},


{
"cell_type": "code",
"execution_count":null,
"metadata": {},
"outputs": [],
"source":
[
 "; What is a pixel?\n",
 ";  : PIcture ELement\n"
 ]
},

{
"cell_type": "code",
"execution_count":null,
"metadata": {},
"outputs": [],
"source":
[
 "; let's look at some pixels\n",
 ";\n",
 "; first we need an image\n",
 "(read-png \"images/sia.png\")\n"
 ]
},

{
"cell_type": "code",
"execution_count":null,
"metadata": {},
"outputs": [],
"source":
[
 "; after you execute (read-png) a greyscale copy of your image\n",
 "; is in April as \"img\"\n"
 ]
},


{
"cell_type": "code",
"execution_count":null,
"metadata": {},
"outputs": [],
"source":
[
 "; let's look at the size of it now using ⍴\n",
 "(april \"⍴ img\")\n"
 ]
},


{
"cell_type": "code",
"execution_count":null,
"metadata": {},
"outputs": [],
"source":
[
 "; let's look at a single pixel\n",
 "(april \"img[200;230]\")\n",
 "; the 200th row\n",
 "; the 230th column\n"
 ]
         },

         {
         "cell_type": "code",
         "execution_count":null,
         "metadata": {},
         "outputs": [],
         "source":
         [
          "; let's look at one row of pixels\n",
          "(april \"img[1;]\")\n"
          ]
         },


         {
         "cell_type": "code",
         "execution_count":null,
         "metadata": {},
         "outputs": [],
         "source":
         [
          "; let's modify the image by only keeping pixel values\n",
          "; greater than 150\n",
          "(write-array (april \"img × img > 150\"))\n"
          ]
         },



         {
         "cell_type": "code",
         "execution_count":null,
         "metadata": {},
         "outputs": [],
         "source":
         [
          "; Terms\n",
          ";\n",
          "; We need to learn some words used in APL\n"
          ]
         },

         {
         "cell_type": "code",
         "execution_count":null,
         "metadata": {},
         "outputs": [],
         "source":
         [
          "; Scalar\n",
          "(april \"3\")\n"
          ]
         },

         {
         "cell_type": "code",
         "execution_count":null,
         "metadata": {},
         "outputs": [],
         "source":
         [
          "; Vector\n",
          "(april \"2 4 6 8\")\n"
          ]
         },

         {
         "cell_type": "code",
         "execution_count":null,
         "metadata": {},
         "outputs": [],
         "source":
         [
          "; Matrix a.k.a \"array\"  a.k.a \"grid\"\n"
          ]
         },

         {
         "cell_type": "code",
         "execution_count":null,
         "metadata": {},
         "outputs": [],
         "source":
         [
          "(april-f \"4 4 ⍴ 1 2 3\" )\n"
          ]
         },

         {
         "cell_type": "code",
         "execution_count":null,
         "metadata": {},
         "outputs": [],
         "source":
         [
          "; Function and Operands:\n",
          "(april \"8 - 3\")\n",
          "; - is the function\n",
          "; 8 is the function's left operand\n",
          "; 3 is the function's right operand\n"
          ]
         },

         {
         "cell_type": "code",
         "execution_count":null,
         "metadata": {},
         "outputs": [],
         "source":
         [
          "; Monadic Function\n"
          ]
         },

         {
         "cell_type": "code",
         "execution_count":null,
         "metadata": {},
         "outputs": [],
         "source":
         [
          "(april \"÷ 9\")\n",
          "; mon-  mono-\n",
          "; : one : single : alone \n",
          ";\n",
          "; monadic functions take a single operand\n"
          ]
         },

         {
         "cell_type": "code",
         "execution_count":null,
         "metadata": {},
         "outputs": [],
         "source":
         [
          "; Dyadic Function\n"
          ]
         },

         {
         "cell_type": "code",
         "execution_count":null,
         "metadata": {},
         "outputs": [],
         "source":
         [
          "(april \"4 + 6\")\n",
          "; dyad\n",
          "; : pair\n",
          ";\n",
          "; dyadic functions take two operands\n"
          ]
         },


         {
         "cell_type": "code",
         "execution_count":null,
         "metadata": {},
         "outputs": [],
         "source":
         [
          "; Please Excuse My Dear Aunt Sally?\n"
          ]
         },

         {
         "cell_type": "code",
         "execution_count":null,
         "metadata": {},
         "outputs": [],
         "source":
         [
          "; Order of Operations in APL:\n",
          "; \n",
          "; right to left\n",
          "; and\n",
          "; the space between vectors items are strong!\n",
          ";\n",
          "; you can use parentheses to force an order\n",
          "; \n"
          ]
         },

         {
         "cell_type": "code",
         "execution_count":null,
         "metadata": {},
         "outputs": [],
         "source":
         [
          "; right to left\n",
          "(april \"10 ÷ 2 + 3\")\n"
          ]
         },

         {
         "cell_type": "code",
         "execution_count":null,
         "metadata": {},
         "outputs": [],
         "source":
         [
          "; parens force order\n",
          "(april \"(10 ÷ 2) + 3\")\n"
          ]
         },

         {
         "cell_type": "code",
         "execution_count":null,
         "metadata": {},
         "outputs": [],
         "source":
         [
          "; the space between vectors items are strong\n",
          "(april \"10 + 1 2 3\")\n"
          ]
         },

         {
         "cell_type": "code",
         "execution_count":null,
         "metadata": {},
         "outputs": [],
         "source":
         [
          "(april-f \"(10 + 1 2) 3\")\n"
          ]
         },



         {
         "cell_type": "code",
         "execution_count":null,
         "metadata": {},
         "outputs": [],
         "source":
         [
          "; ⍴ is a greek letter \n",
          "; pronounced \"row\" \n",
          "; spelled \"rho\"\n",
          ";\n",
          "; dyadic  ⍴ is the \"reshape\" function\n",
          "; monadic ⍴ is the \"shape\"   function\n"
          ]
         },


         {
         "cell_type": "code",
         "execution_count":null,
         "metadata": {},
         "outputs": [],
         "source":
         [
          "; \"what is the shape of the 4 4 reshape of 1 2 3\"\n",
          "(april  \"⍴4 4 ⍴ 1 2 3\" )\n"
          ]
         },

         {
         "cell_type": "code",
         "execution_count":null,
         "metadata": {},
         "outputs": [],
         "source":
         [
          "; \"what is the shape of the shape of the 4 4 reshape of 1 2 3\"\n",
          "(april \"⍴⍴4 4 ⍴ 1 2 3\" )\n"
          ]
         },

         {
         "cell_type": "code",
         "execution_count":null,
         "metadata": {},
         "outputs": [],
         "source":
         [
          "; we need to spend some time with the reshape function\n",
          ";   let's do it a little later\n"
          ]
         },



         {
         "cell_type": "code",
         "execution_count":null,
         "metadata": {},
         "outputs": [],
         "source":
         [
          "; Dimensions, Rank, Shape\n"
          ]
         },

         {
         "cell_type": "code",
         "execution_count":null,
         "metadata": {},
         "outputs": [],
         "source":
         [
          "; spaces don't matter between functions and their operands\n",
          "(april \"⍴ 3\")\n"
          ]
         },

         {
         "cell_type": "code",
         "execution_count":null,
         "metadata": {},
         "outputs": [],
         "source":
         [
          "(april \"⍴3\")\n"
          ]
         },

         {
         "cell_type": "code",
         "execution_count":null,
         "metadata": {},
         "outputs": [],
         "source":
         [
          "(april \"⍴ 2 4 6 8\")\n"
          ]
         },

         {
         "cell_type": "code",
         "execution_count":null,
         "metadata": {},
         "outputs": [],
         "source":
         [
          "(april \"⍴2 4 6 8\")\n"
          ]
         },

         {
         "cell_type": "code",
         "execution_count":null,
         "metadata": {},
         "outputs": [],
         "source":
         [
          "(april \"(⍴ 2 4) 6 8\")\n"
          ]
         },

         {
         "cell_type": "code",
         "execution_count":null,
         "metadata": {},
         "outputs": [],
         "source":
         [
          "(april \"⍴⍴ 2 4 6 8\")\n"
          ]
         },




         {
         "cell_type": "code",
         "execution_count":null,
         "metadata": {},
         "outputs": [],
         "source":
         [
          ";;;;;;;;;;;;;;;;;;;;;;;;;;;;;;\n"
          ]
         },

         {
         "cell_type": "code",
         "execution_count":null,
         "metadata": {},
         "outputs": [],
         "source":
         [
          "; Let's generate some random images\n"
          ]
         },

         {
         "cell_type": "code",
         "execution_count":null,
         "metadata": {},
         "outputs": [],
         "source":
         [
          "; first an image with all black pixels\n",
          "(write-array (april \"10 10 ⍴ 0\"))\n"
          ]
         },

         {
         "cell_type": "code",
         "execution_count":null,
         "metadata": {},
         "outputs": [],
         "source":
         [
          "; an image with all white pixels\n",
          "(write-array (april \"10 10 ⍴ 255\"))\n"
          ]
         },

         {
         "cell_type": "code",
         "execution_count":null,
         "metadata": {},
         "outputs": [],
         "source":
         [
          "; an image with all grey pixels\n",
          "(write-array (april \"10 10 ⍴ 100\"))\n"
          ]
         },

         {
         "cell_type": "code",
         "execution_count":null,
         "metadata": {},
         "outputs": [],
         "source":
         [
          "; ?\n",
          "; roll\n"
          ]
         },

         {
         "cell_type": "code",
         "execution_count":null,
         "metadata": {},
         "outputs": [],
         "source":
         [
          "(april \"?255\")\n"
          ]
         },

         {
         "cell_type": "code",
         "execution_count":null,
         "metadata": {},
         "outputs": [],
         "source":
         [
          "; a 10 by 10 pixel image with random pixel values\n",
          "(write-array (april \"?10 10 ⍴ 255\"))\n"
          ]
         },


         {
         "cell_type": "code",
         "execution_count":null,
         "metadata": {},
         "outputs": [],
         "source":
         [
          ";;;;;;;;;;;;;;;;;;;;;;;;;;;;;;\n"
          ]
         },



         {
         "cell_type": "code",
         "execution_count":null,
         "metadata": {},
         "outputs": [],
         "source":
         [
          "; You might hear me use these terms:\n"
          ]
         },

         {
         "cell_type": "code",
         "execution_count":null,
         "metadata": {},
         "outputs": [],
         "source":
         [
          "; Nested\n"
          ]
         },

         {
         "cell_type": "code",
         "execution_count":null,
         "metadata": {},
         "outputs": [],
         "source":
         [
          "; Item\n"
          ]
         },

         {
         "cell_type": "code",
         "execution_count":null,
         "metadata": {},
         "outputs": [],
         "source":
         [
          "; Axis\n"
          ]
         },



         {
         "cell_type": "code",
         "execution_count":null,
         "metadata": {},
         "outputs": [],
         "source":
         [
          "; Functions and Operators\n"
          ]
         },

         {
         "cell_type": "code",
         "execution_count":null,
         "metadata": {},
         "outputs": [],
         "source":
         [
          "; ←\n",
          "; assignment\n"
          ]
         },

         {
         "cell_type": "code",
         "execution_count":null,
         "metadata": {},
         "outputs": [],
         "source":
         [
          "(april \"sam←50 100 200\")\n"
          ]
         },

         {
         "cell_type": "code",
         "execution_count":null,
         "metadata": {},
         "outputs": [],
         "source":
         [
          "(april \"sam\")\n"
          ]
         },

         {
         "cell_type": "code",
         "execution_count":null,
         "metadata": {},
         "outputs": [],
         "source":
         [
          "; what do you think this will do?\n",
          "(april \"sam ÷ 2\")\n"
          ]
         },

         {
         "cell_type": "code",
         "execution_count":null,
         "metadata": {},
         "outputs": [],
         "source":
         [
          "; ⍳  iota\n"
          ]
         },

         {
         "cell_type": "code",
         "execution_count":null,
         "metadata": {},
         "outputs": [],
         "source":
         [
          "(april \"⍳9\")\n"
          ]
         },

         {
         "cell_type": "code",
         "execution_count":null,
         "metadata": {},
         "outputs": [],
         "source":
         [
          "; ⍴  rho\n",
          "; monadic ⍴ tells you the shape of something\n"
          ]
         },

         {
         "cell_type": "code",
         "execution_count":null,
         "metadata": {},
         "outputs": [],
         "source":
         [
          "(april \"⍴ 2 4 6 8 10\")\n"
          ]
         },

         {
         "cell_type": "code",
         "execution_count":null,
         "metadata": {},
         "outputs": [],
         "source":
         [
          "(april \"⍴ sam\")\n"
          ]
         },

         {
         "cell_type": "code",
         "execution_count":null,
         "metadata": {},
         "outputs": [],
         "source":
         [
          "; dyadic ⍴ reshapes\n",
          "(april \"15 ⍴ sam\")\n",
          "; Read as: \"15 reshape sam\" makes a vector 15 items long using sam\n"
          ]
         },



         {
         "cell_type": "code",
         "execution_count":null,
         "metadata": {},
         "outputs": [],
         "source":
         [
          "; ⍉\n",
          "; Transpose\n"
          ]
         },

         {
         "cell_type": "code",
         "execution_count":null,
         "metadata": {},
         "outputs": [],
         "source":
         [
          "(april \"twenty_five_square←5 5 ⍴ ⍳25\")\n"
          ]
         },

         {
         "cell_type": "code",
         "execution_count":null,
         "metadata": {},
         "outputs": [],
         "source":
         [
          "(april-f \"twenty_five_square\")\n"
          ]
         },

         {
         "cell_type": "code",
         "execution_count":null,
         "metadata": {},
         "outputs": [],
         "source":
         [
          "(april-f \"⍉twenty_five_square\")\n"
          ]
         },

         {
         "cell_type": "code",
         "execution_count":null,
         "metadata": {},
         "outputs": [],
         "source":
         [
          "(write-array (april \"smile\"))\n"
          ]
         },

         {
         "cell_type": "code",
         "execution_count":null,
         "metadata": {},
         "outputs": [],
         "source":
         [
          "(write-array (april \"⍉smile\"))\n"
          ]
         },

         {
         "cell_type": "code",
         "execution_count":null,
         "metadata": {},
         "outputs": [],
         "source":
         [
          "; let's transpose the image of sia\n",
          "(write-array (april \"⍉img\"))\n"
          ]
         },

         {
         "cell_type": "code",
         "execution_count":null,
         "metadata": {},
         "outputs": [],
         "source":
         [
          "(write-array (april \"⍉⍉smile\"))\n"
          ]
         },

         {
         "cell_type": "code",
         "execution_count":null,
         "metadata": {},
         "outputs": [],
         "source":
         [
          "; ,  comma\n",
          "; dyadic , is the catenate function\n",
          "; monadic , is the ravel function\n"
          ]
         },

         {
         "cell_type": "code",
         "execution_count":null,
         "metadata": {},
         "outputs": [],
         "source":
         [
          "(april \"20 30 40 , sam\")\n"
          ]
         },

         {
         "cell_type": "code",
         "execution_count":null,
         "metadata": {},
         "outputs": [],
         "source":
         [
          "(april \"20 30 40 sam\")\n"
          ]
         },

         {
         "cell_type": "code",
         "execution_count":null,
         "metadata": {},
         "outputs": [],
         "source":
         [
          "(april \", smile\")\n"
          ]
         },

         {
         "cell_type": "code",
         "execution_count":null,
         "metadata": {},
         "outputs": [],
         "source":
         [
          ";;;;;;;;;;;;;;;;;;;;\n"
          ]
         },

         {
         "cell_type": "code",
         "execution_count":null,
         "metadata": {},
         "outputs": [],
         "source":
         [
          "; let's make a mask\n",
          "(write-array (april \"img\"))\n"
          ]
         },

         {
         "cell_type": "code",
         "execution_count":null,
         "metadata": {},
         "outputs": [],
         "source":
         [
          "(write-array (april \"mask←img<20\"))\n"
          ]
         },

         {
         "cell_type": "code",
         "execution_count":null,
         "metadata": {},
         "outputs": [],
         "source":
         [
          "(write-array (april \"mask×255\"))\n"
          ]
         },

         {
         "cell_type": "code",
         "execution_count":null,
         "metadata": {},
         "outputs": [],
         "source":
         [
          "; and use the mask\n",
          "(write-array (april \"one←mask×?(⍴img) ⍴ 255\"))\n"
          ]
         },

         {
         "cell_type": "code",
         "execution_count":null,
         "metadata": {},
         "outputs": [],
         "source":
         [
          "(write-array (april \"two←mask×?(⍴img) ⍴ 255\"))\n"
          ]
         },

         {
         "cell_type": "code",
         "execution_count":null,
         "metadata": {},
         "outputs": [],
         "source":
         [
          "(write-animated-gif (april \"img one two\"))\n"
          ]
         },

         {
         "cell_type": "code",
         "execution_count":null,
         "metadata": {},
         "outputs": [],
         "source":
         [
          ";;;;;;;\n"
          ]
         },

         {
         "cell_type": "code",
         "execution_count":null,
         "metadata": {},
         "outputs": [],
         "source":
         [
          "(read-png \"images/Dua_Lipa.png\")\n"
          ]
         },

         {
         "cell_type": "code",
         "execution_count":null,
         "metadata": {},
         "outputs": [],
         "source":
         [
          "(read-png \"images/Columbus-Skyline.png\")\n"
          ]
         },

         {
         "cell_type": "code",
         "execution_count":null,
         "metadata": {},
         "outputs": [],
         "source":
         [
          "(write-array (april \"img\"))\n"
          ]
         },

         {
         "cell_type": "code",
         "execution_count":null,
         "metadata": {},
         "outputs": [],
         "source":
         [
          "(april \"masks←(⊂img)<20 40 60 40\")\n"
          ]
         },

         {
         "cell_type": "code",
         "execution_count":null,
         "metadata": {},
         "outputs": [],
         "source":
         [
          "(april \"masks←(⊂img)<20 40 60 100 150 200 255\")\n"
          ]
         },

         {
         "cell_type": "code",
         "execution_count":null,
         "metadata": {},
         "outputs": [],
         "source":
         [
          "(write-animated-gif (april \"masks×⊂img\"))\n"
          ]
         },


         {
         "cell_type": "code",
         "execution_count":null,
         "metadata": {},
         "outputs": [],
         "source":
         [
          ";;;;;;;;;;;;;;;;;;;;;\n"
          ]
         },

         {
         "cell_type": "code",
         "execution_count":null,
         "metadata": {},
         "outputs": [],
         "source":
         [
          "; let's generate an image more programmatically\n"
          ]
         },

         {
         "cell_type": "code",
         "execution_count":null,
         "metadata": {},
         "outputs": [],
         "source":
         [
          "; TODO\n"
          ]
         },

         {
         "cell_type": "code",
         "execution_count":null,
         "metadata": {},
         "outputs": [],
         "source":
         [
          "(april \"a←?100 50 ⍴ 10\")\n",
          "(april \"b←?100 50 ⍴ 50\")\n",
          "(april \"c←?100 50 ⍴ 100\")\n",
          "(april \"d←?100 50 ⍴ 255\")\n",
          "(april \"aa←⍉a,b,c,d\")\n"
          ]
         },

         {
         "cell_type": "code",
         "execution_count":null,
         "metadata": {},
         "outputs": [],
         "source":
         [
          "(write-animated-gif (april \"aa ab ac\"))\n"
          ]
         },


         {
         "cell_type": "code",
         "execution_count":null,
         "metadata": {},
         "outputs": [],
         "source":
         [
          ";;;;;;;;;;;;;;;;;;;;\n"
          ]
         },

         {
         "cell_type": "code",
         "execution_count":null,
         "metadata": {},
         "outputs": [],
         "source":
         [
          "; function definition\n",
          "; {}\n"
          ]
         },

         {
         "cell_type": "code",
         "execution_count":null,
         "metadata": {},
         "outputs": [],
         "source":
         [
          "(april \"15 {⍺+⍵} 10 20 30\")\n"
          ]
         },

         {
         "cell_type": "code",
         "execution_count":null,
         "metadata": {},
         "outputs": [],
         "source":
         [
          "(april \"15 {⍺<⍵} 10 20 30\")\n"
          ]
         },



         {
         "cell_type": "code",
         "execution_count":null,
         "metadata": {},
         "outputs": [],
         "source":
         [
          ";;;;;;;;;;;;;;;;;;;;\n"
          ]
         },

         {
         "cell_type": "code",
         "execution_count":null,
         "metadata": {},
         "outputs": [],
         "source":
         [
          "; convolution kernels\n",
          "; using the stencil function:  ⌺\n"
          ]
         },

         {
         "cell_type": "code",
         "execution_count":null,
         "metadata": {},
         "outputs": [],
         "source":
         [
          "(april \"⎕←m←4 4 ⍴ ⍳25\")\n"
          ]
         },

         {
         "cell_type": "code",
         "execution_count":null,
         "metadata": {},
         "outputs": [],
         "source":
         [
          "(april-f \"({⍵}⌺ 3 3) m\")\n"
          ]
         },

         {
         "cell_type": "code",
         "execution_count":null,
         "metadata": {},
         "outputs": [],
         "source":
         [
          "(april-f \"({+/,⍵}⌺ 3 3) m\") ; adding up all cells in each matrix\n"
          ]
         },

         {
         "cell_type": "code",
         "execution_count":null,
         "metadata": {},
         "outputs": [],
         "source":
         [
          "(april \"⎕←kernel←3 3 ⍴ 0 ¯1 0 ¯1 5 ¯1 0 ¯1 0\")\n"
          ]
         },

         {
         "cell_type": "code",
         "execution_count":null,
         "metadata": {},
         "outputs": [],
         "source":
         [
          "(write-array (april-f \"255⌊({+/,⍵}⌺ 3 3) img\")) ; adding up all cells in each matrix\n"
          ]
         },

         {
         "cell_type": "code",
         "execution_count":null,
         "metadata": {},
         "outputs": [],
         "source":
         [
          "(april-f \"result←({+/+/kernel×⍵}⌺ 3 3) img ⋄ 0\"); sharpen kernel\n"
          ]
         },

         {
         "cell_type": "code",
         "execution_count":null,
         "metadata": {},
         "outputs": [],
         "source":
         [
          "(write-array (april \"0⌈255⌊result\"))\n"
          ]
         },

         {
         "cell_type": "code",
         "execution_count":null,
         "metadata": {},
         "outputs": [],
         "source":
         [
          "(april-f \"result1←({+/+/kernel×⍵}⌺ 3 3) (225⌊result) ⋄ 0\"); sharpen kernel\n"
          ]
         },

         {
         "cell_type": "code",
         "execution_count":null,
         "metadata": {},
         "outputs": [],
         "source":
         [
          "(april-f \"result2←({+/+/kernel×⍵}⌺ 3 3) (225⌊result1) ⋄ 0\"); sharpen kernel\n"
          ]
         },

         {
         "cell_type": "code",
         "execution_count":null,
         "metadata": {},
         "outputs": [],
         "source":
         [
          "(april-f \"result3←({+/+/kernel×⍵}⌺ 3 3) (225⌊result2) ⋄ 0\"); sharpen kernel\n"
          ]
         },

         {
         "cell_type": "code",
         "execution_count":null,
         "metadata": {},
         "outputs": [],
         "source":
         [
          "(write-array (april \"0⌈255⌊result3\"))\n"
          ]
         },

         {
         "cell_type": "code",
         "execution_count":null,
         "metadata": {},
         "outputs": [],
         "source":
         [
          "; (write-array (april \"small←100 100 ↑ img\"))\n",
          "; (write-array (april \"small\"))\n"
          ]
         },

         {
         "cell_type": "code",
         "execution_count":null,
         "metadata": {},
         "outputs": [],
         "source":
         [
          "(write-animated-gif (april \"img (0⌈255⌊result) (0⌈255⌊result1) (0⌈255⌊result2)\")) ; clamp\n"
          ]
         },

         {
         "cell_type": "code",
         "execution_count":null,
         "metadata": {},
         "outputs": [],
         "source":
         [
          ";;;;;; line detection\n"
          ]
         },

         {
         "cell_type": "code",
         "execution_count":null,
         "metadata": {},
         "outputs": [],
         "source":
         [
          "(write-array (april \"img\"))\n"
          ]
         },

         {
         "cell_type": "code",
         "execution_count":null,
         "metadata": {},
         "outputs": [],
         "source":
         [
          "(april \"⎕←kernel←3 3 ⍴ ¯1 2 ¯1 \")\n"
          ]
         },

         {
         "cell_type": "code",
         "execution_count":null,
         "metadata": {},
         "outputs": [],
         "source":
         [
          "(april \"done←({0⌈255⌊+/,⍵×kernel}⌺ 3 3) img ⋄ 0\")\n"
          ]
         },

         {
         "cell_type": "code",
         "execution_count":null,
         "metadata": {},
         "outputs": [],
         "source":
         [
          "(write-array (april \"done\"))\n"
          ]
         },

         {
         "cell_type": "code",
         "execution_count":null,
         "metadata": {},
         "outputs": [],
         "source":
         [
          ";;;;;;;;;;;;;;;;;;;;\n"
          ]
         },

         {
         "cell_type": "code",
         "execution_count":null,
         "metadata": {},
         "outputs": [],
         "source":
         [
          "(april \"gaussBlur←{kernel←3 3 ⍴ 1 2 1 2 4 2 1 2 1\n",
          "                   ({255⌊0⌈⌊(+/,kernel × ⍵)÷16}⌺ 3 3) ⍵\n",
          "                  }\")\n"
          ]
         },

         {
         "cell_type": "code",
         "execution_count":null,
         "metadata": {},
         "outputs": [],
         "source":
         [
          "(april-f \"gaussBlur 3 3 ⍴ ⍳9\")\n"
          ]
         },

         {
         "cell_type": "code",
         "execution_count":null,
         "metadata": {},
         "outputs": [],
         "source":
         [
          ";;;;\n"
          ]
         },

         {
         "cell_type": "code",
         "execution_count":null,
         "metadata": {},
         "outputs": [],
         "source":
         [
          "(read-png \"images/twitter_photo1_sm.png\")\n"
          ]
         },

         {
         "cell_type": "code",
         "execution_count":null,
         "metadata": {},
         "outputs": [],
         "source":
         [
          "; how many pixel values are greater than 50?\n",
          "(april \"+/,img>50\")\n"
          ]
         },

         {
         "cell_type": "code",
         "execution_count":null,
         "metadata": {},
         "outputs": [],
         "source":
         [
          "; how many pixel are there? \n"
          ]
         },

         {
         "cell_type": "code",
         "execution_count":null,
         "metadata": {},
         "outputs": [],
         "source":
         [
          "; what percentage of pixel values are greater than 50? \n",
          "(april \"⌊100×(+/,img>50)÷×/⍴img\")\n"
          ]
         },

         {
         "cell_type": "code",
         "execution_count":null,
         "metadata": {},
         "outputs": [],
         "source":
         [
          "(april \"⎕←kernelA←3 3 ⍴ ¯1 2 ¯1 \")\n"
          ]
         },

         {
         "cell_type": "code",
         "execution_count":null,
         "metadata": {},
         "outputs": [],
         "source":
         [
          "(april \"up←img×img>100\")\n"
          ]
         },

         {
         "cell_type": "code",
         "execution_count":null,
         "metadata": {},
         "outputs": [],
         "source":
         [
          "(april \"r←({255⌊|+/+/kernelA×⍵}⌺3 3) gaussBlur up ⋄ 0\")\n"
          ]
         },

         {
         "cell_type": "code",
         "execution_count":null,
         "metadata": {},
         "outputs": [],
         "source":
         [
          "(april \"r←({255⌊|+/+/kernelA×⍵}⌺3 3) img ⋄ 0\")\n"
          ]
         },

         {
         "cell_type": "code",
         "execution_count":null,
         "metadata": {},
         "outputs": [],
         "source":
         [
          "(write-animated-gif (april \"img r\"))\n"
          ]
         },

         {
         "cell_type": "code",
         "execution_count":null,
         "metadata": {},
         "outputs": [],
         "source":
         [
          "(write-array (april \"255⌊⌈3.0×r\"))\n"
          ]
         },

         {
         "cell_type": "code",
         "execution_count":null,
         "metadata": {},
         "outputs": [],
         "source":
         [
          "(write-array (april \"r×(gaussBlur r)>50\"))\n"
          ]
         },

         {
         "cell_type": "code",
         "execution_count":null,
         "metadata": {},
         "outputs": [],
         "source":
         [
          ";;;;\n",
          "; https://web.archive.org/web/20121005005358/http://williamson-labs.com/convolution-2d.htm\n"
          ]
         },

         {
         "cell_type": "code",
         "execution_count":null,
         "metadata": {},
         "outputs": [],
         "source":
         [
          "; high pass mask\n"
          ]
         },

         {
         "cell_type": "code",
         "execution_count":null,
         "metadata": {},
         "outputs": [],
         "source":
         [
          "(time (april \"kern←3 3 ⍴ ¯1 ¯1 ¯1 ¯1 9 \n",
          "       r←{+/,kern × ⍵}⌺ 3 3 ⊢ img ⋄ 0\"))\n"
          ]
         },

         {
         "cell_type": "code",
         "execution_count":null,
         "metadata": {},
         "outputs": [],
         "source":
         [
          "(write-animated-gif (april \"(img) (0⌈255⌊r)\"))\n"
          ]
         },

         {
         "cell_type": "code",
         "execution_count":null,
         "metadata": {},
         "outputs": [],
         "source":
         [
          "; low pass filter\n"
          ]
         },

         {
         "cell_type": "code",
         "execution_count":null,
         "metadata": {},
         "outputs": [],
         "source":
         [
          "(april-f \"kern←3 3 ⍴ (4 ⍴ ÷16),(÷2)\")\n"
          ]
         },

         {
         "cell_type": "code",
         "execution_count":null,
         "metadata": {},
         "outputs": [],
         "source":
         [
          "(time (april \"r←{+/,kern × ⍵}⌺ 3 3 ⊢ img ⋄ 0\"))\n"
          ]
         },

         {
         "cell_type": "code",
         "execution_count":null,
         "metadata": {},
         "outputs": [],
         "source":
         [
          "(write-array (april \"⌊0⌈255⌊r\"))\n"
          ]
         },

         {
         "cell_type": "code",
         "execution_count":null,
         "metadata": {},
         "outputs": [],
         "source":
         [
          "(time (april \"rr←{+/,kern × ⍵}⌺ 3 3 ⊢ r ⋄ 0\"))\n"
          ]
         },

         {
         "cell_type": "code",
         "execution_count":null,
         "metadata": {},
         "outputs": [],
         "source":
         [
          "(time (april \"rrr←{+/,kern × ⍵}⌺ 3 3 ⊢ rr ⋄ 0\"))\n"
          ]
         },

         {
         "cell_type": "code",
         "execution_count":null,
         "metadata": {},
         "outputs": [],
         "source":
         [
          "(write-animated-gif (april \"(img) (⌊0⌈255⌊r) (⌊0⌈255⌊rr) (⌊0⌈255⌊rrr)\"))\n"
          ]
         },

         {
         "cell_type": "code",
         "execution_count":null,
         "metadata": {},
         "outputs": [],
         "source":
         [
          ";edge detector\n"
          ]
         },

         {
         "cell_type": "code",
         "execution_count":null,
         "metadata": {},
         "outputs": [],
         "source":
         [
          "(april-f \"kern←3 3 ⍴ ¯1 ¯1 ¯1 ¯1 8\")\n"
          ]
         },

         {
         "cell_type": "code",
         "execution_count":null,
         "metadata": {},
         "outputs": [],
         "source":
         [
          "(april \"r_edge←{+/,kern × ⍵}⌺ 3 3 ⊢ img ⋄ 0\")\n"
          ]
         },

         {
         "cell_type": "code",
         "execution_count":null,
         "metadata": {},
         "outputs": [],
         "source":
         [
          "(write-array (april \"⌊255⌊0⌈r_edge\"))\n"
          ]
         },

         {
         "cell_type": "code",
         "execution_count":null,
         "metadata": {},
         "outputs": [],
         "source":
         [
          "(write-array (april \"(⊢×(200∘<)) (255⌊0⌈r)\"))\n"
          ]
         },

         {
         "cell_type": "code",
         "execution_count":null,
         "metadata": {},
         "outputs": [],
         "source":
         [
          ";   ×⍨⍤50∘<  ⍵\n"
          ]
         },


         {
         "cell_type": "code",
         "execution_count":null,
         "metadata": {},
         "outputs": [],
         "source":
         [
          "(april \"{+/,(3 3 ⍴ ¯1 ¯1 ¯1 ¯1 9) × ⍵}⌺ 3 3 ⊢ img\")\n"
          ]
         },

         {
         "cell_type": "code",
         "execution_count":null,
         "metadata": {},
         "outputs": [],
         "source":
         [
          "(april-f \"3 3 ⍴ ¯1 ¯1 ¯1 ¯1 9 \")\n"
          ]
         },

         {
         "cell_type": "code",
         "execution_count":null,
         "metadata": {},
         "outputs": [],
         "source":
         [
          ";;;;\n",
          ";\n",
          "(april-f \"kernelB←⍉kernelA\")\n",
          "(april-f \"kernelC←¯1 0 1⌽kernelA\")\n",
          "(april-f \"kernelD←⌽¯1 0 1⌽kernelA\")\n",
          ";\n",
          "(april \"img←?3 3 ⍴ 255\")\n",
          "(april-f \"({+/+/⍵}⌺3 3) img\")\n",
          "(april-f \"kernelA kernelB kernelC kernelD × ⊂img\")\n",
          "(april-f \"255⌊|+/¨+/¨kernelA kernelB kernelC kernelD × ⊂img\")\n",
          "; (april-f \"⍴({255⌊|+/¨+/¨kernelA kernelB kernelC kernelD × ⊂⍵}⌺3 3) img\")\n",
          "(april-f \"({+/+/¨kernelA kernelB kernelC kernelD × ⊂⍵}⌺3 3) img\")\n",
          "(april-f \"({kernelA kernelB kernelC kernelD × ⊂⍵}⌺3 3) img\")\n",
          "(april-f \"({kernelA kernelB × ⊂⍵}⌺3 3) img\")\n",
          "(april-f \"({kernelA kernelB (⊣×⊂⍤⊢) ⍵}⌺3 3) img\")\n",
          ";              ⍺×⊂⍵\n",
          "; ⍺ ( gh)⍵→   g(⍺h⍵)  ⍝ dyadic  atop)\n",
          "; ⍺ (fgh)⍵→  (⍺f⍵) g(⍺h⍵)  ⍝ dyadic  fgh fork)\n",
          "(april \"2 3 (⊣×⊂⍤⊢) 4 5\")\n",
          "(april \"2 3 ×∘⊂ 4 5\")\n",
          "(april \"2 3 (⊣(+/×)⊂⍤⊢) 4 5\")\n",
          "(april \"2 3 ⊂⍤⊢ 4 5\")\n",
          "(april \"2 3 (⊂⊢) 4 5\")\n",
          "(april-f \"({+/+/kernelA × ⍵}⌺3 3) img\")\n",
          "(format t \"~@r~%\" 123)\n",
          "(format t \"~r~%\" 123)\n",
          "(april-f \"m←2 3 3 ⍴ ⍳ 18\")\n",
          "(april-f \"(1⌷m) (2⌷m)\")\n",
          "(april \"count←⊃⍴m\")\n",
          "(april \"≢ 8 3 3 ⍴ 0\")\n",
          "(april-f \"(⍳≢) ∘.⌷ ⊂m \")\n",
          ";      (∘.⌷∘⊂)\n",
          "(april-f \"(⍳∘≢(∘.⌷)⊂) m\")\n",
          "(april-f \"(⍳∘≢∘.⌷⊂) m\")\n"
          ]
         },

         {
         "cell_type": "code",
         "execution_count":null,
         "metadata": {},
         "outputs": [],
         "source":
         [
          "(april-f \"⊃1 1 ↑'(÷' '(-' ∘., 1 2 3 ∘., ')'\")\n",
          "; (fgh)⍵→   ( f⍵) g( h⍵)  ⍝ monadic fgh fork)\n",
          "(april \"(-,[0.5]÷) 1 2 3\")\n",
          "(april \"'(÷',' 1)'\")\n",
          "(april \"'(÷ 1) (÷ 2)'\")\n",
          "(april \"img←?2 2 ⍴ 255 \")\n",
          "(time (april \"result←({+/+/⍵×kernel}⌺3 3) img\"))\n",
          "(write-array (april \"255⌊|result\"))\n",
          "(april \"\")\n"
          ]
         },

         {
         "cell_type": "code",
         "execution_count":null,
         "metadata": {},
         "outputs": [],
         "source":
         [
          "(write-array (april \"255×img<155\"))\n",
          ";;;;;;;;;;;;;;\n"
          ]
         },




         {
         "cell_type": "code",
         "execution_count":null,
         "metadata": {},
         "outputs": [],
         "source":
         [
          "; ⎕\n",
          "; look\n"
          ]
         },

         {
         "cell_type": "code",
         "execution_count":null,
         "metadata": {},
         "outputs": [],
         "source":
         [
          "(april \"⎕← 8 7 6\" )\n"
          ]
         },

         {
         "cell_type": "code",
         "execution_count":null,
         "metadata": {},
         "outputs": [],
         "source":
         [
          "; ⋄\n",
          "; end of expression\n"
          ]
         },

         {
         "cell_type": "code",
         "execution_count":null,
         "metadata": {},
         "outputs": [],
         "source":
         [
          "(april \"1 ⋄ 2\" )\n"
          ]
         },

         {
         "cell_type": "code",
         "execution_count":null,
         "metadata": {},
         "outputs": [],
         "source":
         [
          "(april \"⎕←1 ⋄ 2\" )\n"
          ]
         },

         {
         "cell_type": "code",
         "execution_count":null,
         "metadata": {},
         "outputs": [],
         "source":
         [
          "(april \"⎕←1 ⋄ 2 ⋄ 99\" )\n"
          ]
         },

         {
         "cell_type": "code",
         "execution_count":null,
         "metadata": {},
         "outputs": [],
         "source":
         [
          "; [ ]\n",
          "; indexing\n"
          ]
         },

         {
         "cell_type": "code",
         "execution_count":null,
         "metadata": {},
         "outputs": [],
         "source":
         [
          "(april \"sam[1]\")\n"
          ]
         },

         {
         "cell_type": "code",
         "execution_count":null,
         "metadata": {},
         "outputs": [],
         "source":
         [
          "(april \"⎕←m ⋄ 0\")\n"
          ]
         },

         {
         "cell_type": "code",
         "execution_count":null,
         "metadata": {},
         "outputs": [],
         "source":
         [
          "(april \"m[1;]\")\n"
          ]
         },


         {
         "cell_type": "code",
         "execution_count":null,
         "metadata": {},
         "outputs": [],
         "source":
         [
          "; +/\n",
          "; plus reduce\n",
          "; plus \"plop\"\n"
          ]
         },

         {
         "cell_type": "code",
         "execution_count":null,
         "metadata": {},
         "outputs": [],
         "source":
         [
          "(april \"+/1 3 5 7\")\n"
          ]
         },

         {
         "cell_type": "code",
         "execution_count":null,
         "metadata": {},
         "outputs": [],
         "source":
         [
          "(april \"+/sam\")\n"
          ]
         },

         {
         "cell_type": "code",
         "execution_count":null,
         "metadata": {},
         "outputs": [],
         "source":
         [
          "; ⌈\n",
          "; (monadic) round up\n",
          "; (dyadic) maximum\n"
          ]
         },


         {
         "cell_type": "code",
         "execution_count":null,
         "metadata": {},
         "outputs": [],
         "source":
         [
          "(april \"⌈4.2\")\n"
          ]
         },

         {
         "cell_type": "code",
         "execution_count":null,
         "metadata": {},
         "outputs": [],
         "source":
         [
          "(april \"9⌈8\")\n"
          ]
         },

         {
         "cell_type": "code",
         "execution_count":null,
         "metadata": {},
         "outputs": [],
         "source":
         [
          "; ⌊\n"
          ]
         },

         {
         "cell_type": "code",
         "execution_count":null,
         "metadata": {},
         "outputs": [],
         "source":
         [
          "(april \"⌊4.2\")\n"
          ]
         },

         {
         "cell_type": "code",
         "execution_count":null,
         "metadata": {},
         "outputs": [],
         "source":
         [
          "; |\n",
          "; remainder\n"
          ]
         },

         {
         "cell_type": "code",
         "execution_count":null,
         "metadata": {},
         "outputs": [],
         "source":
         [
          "(april \"5|10\")\n",
          "; 10 divided by 5 is 2 and the remainder is 0\n"
          ]
         },

         {
         "cell_type": "code",
         "execution_count":null,
         "metadata": {},
         "outputs": [],
         "source":
         [
          "(april \"5|9\")\n",
          "; 9 divided by 5 is 1 and the remainder is 4\n"
          ]
         },



         {
         "cell_type": "code",
         "execution_count":null,
         "metadata": {},
         "outputs": [],
         "source":
         [
          "; {}\n"
          ]
         },

         {
         "cell_type": "code",
         "execution_count":null,
         "metadata": {},
         "outputs": [],
         "source":
         [
          "; ⊂\n"
          ]
         },

         {
         "cell_type": "code",
         "execution_count":null,
         "metadata": {},
         "outputs": [],
         "source":
         [
          "; ⊃\n"
          ]
         },

         {
         "cell_type": "code",
         "execution_count":null,
         "metadata": {},
         "outputs": [],
         "source":
         [
          "; ∘.\n"
          ]
         },

         {
         "cell_type": "code",
         "execution_count":null,
         "metadata": {},
         "outputs": [],
         "source":
         [
          "; *\n"
          ]
         },


         {
         "cell_type": "code",
         "execution_count":null,
         "metadata": {},
         "outputs": [],
         "source":
         [
          ";;;;;;;;;;;;;;;\n",
          "; some rotations, flips, etc.\n"
          ]
         },

         {
         "cell_type": "code",
         "execution_count":null,
         "metadata": {},
         "outputs": [],
         "source":
         [
          "(write-array (april \"⊖img\"))\n"
          ]
         },

         {
         "cell_type": "code",
         "execution_count":null,
         "metadata": {},
         "outputs": [],
         "source":
         [
          "(write-array (april \"⌽img\"))\n"
          ]
         },

         {
         "cell_type": "code",
         "execution_count":null,
         "metadata": {},
         "outputs": [],
         "source":
         [
          "(write-animated-gif (april \"img (⌽img) (⊖img)\"))\n"
          ]
         },

         {
         "cell_type": "code",
         "execution_count":null,
         "metadata": {},
         "outputs": [],
         "source":
         [
          "(write-animated-gif (april \"img (100⌽img)\"))\n"
          ]
         },

         {
         "cell_type": "code",
         "execution_count":null,
         "metadata": {},
         "outputs": [],
         "source":
         [
          "(write-animated-gif (april \"img (100⌽img)\"))\n"
          ]
         },


         {
         "cell_type": "code",
         "execution_count":null,
         "metadata": {},
         "outputs": [],
         "source":
         [
          "(write-array (april \"img,⌽img\"))\n"
          ]
         },

         {
         "cell_type": "code",
         "execution_count":null,
         "metadata": {},
         "outputs": [],
         "source":
         [
          "(write-array (april \"{⍵,[1]⊖⍵}img,⌽img\"))\n"
          ]
         },

         {
         "cell_type": "code",
         "execution_count":null,
         "metadata": {},
         "outputs": [],
         "source":
         [
          "(write-array (april \"{⍵,[1]⊖⍵} (¯230⌽img),230⌽⌽img\"))\n",
          ";;;;;;;;;\n"
          ]
         },



         {
         "cell_type": "code",
         "execution_count":null,
         "metadata": {},
         "outputs": [],
         "source":
         [
          ";;;;;;;;;;;;;;;\n"
          ]
         },




         {
         "cell_type": "code",
         "execution_count":null,
         "metadata": {},
         "outputs": [],
         "source":
         [
          "; if you want an information overload run this cell.\n",
          "; it will tell you lots of information about the file \"some.jpg\"\n",
          "(uiop:run-program \"identify -verbose images/sia.png\" :output t)\n"
          ]
         },


         {
         "cell_type": "code",
         "execution_count":null,
         "metadata": {},
         "outputs": [],
         "source":
         [
          "(write-array (april \"⎕←100 100 ⍴ 100?200\"))\n"
          ]
         },

         {
         "cell_type": "code",
         "execution_count":null,
         "metadata": {},
         "outputs": [],
         "source":
         [
          "(april \"⎕←100 100 ⍴ 100?200\")\n",
          "; https://www.keyence.com/ss/products/auto_id/barcode_lecture/basic/mechanism/\n",
          "; make a barcode?\n"
          ]
         },




         {
         "cell_type": "code",
         "execution_count":null,
         "metadata": {},
         "outputs": [],
         "source":
         [
          ";;;;;;;;;;;\n",
          "(april-f \"v←200×0 0 0 0 0 0 0 1 0 0 1 0 0 0 0 0 0 0 0 1 0 0 1 0 0 0 1 1 0 0⋄ m←5 6 ⍴ v \")\n",
          "(april-f \"m\")\n",
          "(write-array (april \"m\"))\n",
          "(write-array (april-f \"⌊({(+/+/÷×/∘⍴)⍵}⌺ 3 3) img\"))\n",
          "(april \"(+/+/÷×/) 3 3 ⍴ ⍳9\")\n",
          "(april \"(×/∘⍴) 3 3 ⍴ ⍳9\")\n",
          "(april \"⌊3 3 ⍴ 4÷3\")\n",
          ";;;\n",
          "(april \"m\")\n",
          ";;;;;;;;;;;\n"
          ]
         },

         {
         "cell_type": "code",
         "execution_count":null,
         "metadata": {},
         "outputs": [],
         "source":
         [
          "; ⌸ key\n",
          "(april-f \"res←{⍺ (≢⍵)}⌸ ,img\")\n",
          "(april-f \"⎕←res[⍒res[;2];]⋄0\")\n",
          "(write-array (april \"sr←img[⍋img[1;]]\"))\n",
          "(write-array (april \"img[⍋img[1;]] ,[1] ¯299↑img\"))\n",
          "(write-array (april \"↑⍋¨↓img[⍳10;] ,[1] ¯290↑img\")) ; what is this?\n",
          "(write-array (april \"↑⍋¨↓img[⍳10;]\"))\n",
          "(write-array (april \"img[⍳2;]\"))\n",
          "(april-f \"target←2 2 ⍴ ⍳4\")\n",
          "(april \"rearr←2 2 ⍴ 2 1 2 1\")\n",
          "(april-f \"target[rearr]\")\n"
          ]
         },

         {
         "cell_type": "code",
         "execution_count":null,
         "metadata": {},
         "outputs": [],
         "source":
         [
          "(write-array (april \"↑⍋¨↓img[⍳2;]\"))\n",
          "(april \"img[1 2;]\")\n",
          "(april \"⍴img\")\n",
          "(april-f \"0 11 22 ,[1] 3 3 ⍴ ⍳ 9\")\n"
          ]
         },

         {
         "cell_type": "code",
         "execution_count":null,
         "metadata": {},
         "outputs": [],
         "source":
         [
          "(progn\n",
          "  ; (april \"m←img\")\n",
          "  (april \"m←smile\")\n",
          "  ; (april \"m←⌊(+/img)÷¯1↑⍴img\")\n",
          "  (april \"res←{⍺,≢⍵} ⌸ ,m\")\n",
          "  (april-f \"sorted←res[⍋⌽res;]\")\n",
          "  ; (april-f \"sorted←res[⍒res;]\")\n",
          "  (april \"values←sorted[⍳1⊃⍴sorted;1]\")\n",
          "  (april \"counts←sorted[⍳1⊃⍴sorted;2]\")\n",
          "  0)\n",
          "(write-array (april \"(⍴m) ⍴ counts/values\"))\n",
          ";;;;;;;;;;;;;;;;;\n"
          ]
         },

         {
         "cell_type": "code",
         "execution_count":null,
         "metadata": {},
         "outputs": [],
         "source":
         [
          "; what color occurs most often?\n"
          ]
         },




         {
         "cell_type": "code",
         "execution_count":null,
         "metadata": {},
         "outputs": [],
         "source":
         [
          "; TODO note that the wet bandits, after sobel, seem to have \n",
          "; extra information. jpeg artifacts?\n"
          ]
         },

         {
         "cell_type": "code",
         "execution_count":null,
         "metadata": {},
         "outputs": [],
         "source":
         [
          "; y (april \"littlem←(250⊖200⌽m)[⍳10;⍳10]\"))\n",
          "(april \"{+/+/kernel×⍵}⌺3 3⊢m\")\n",
          "(april \"{+/+/kernel×⍵}⌺3 3⊢m\")\n",
          "(april \"⍴m\")\n",
          "(april \"{+/+/kernel×⍵}⌺3 3⊢10 10 ⍴ ⍳100\")\n",
          "(defmacro bob (a)\n",
          "  `(loop :for i :from 0 :to 1000\n",
          "         :collect (progn \n",
          "                    (sleep 0.01)\n",
          "                    (list ,a))))\n",
          "(bob 88)\n",
          "(flamegraph:save-flame-graph (\"/mnt/some.flame\") \n",
          "  (april \"{+/+/kernel×⍵}⌺3 3⊢m\"))\n",
          "(april (:with (:compile-only)) \"filteredx←{+/+/kernel×⍵}⌺3 3⊢m\")\n",
          "(april  \"filteredx←{+/+/kernel×⍵}⌺3 3⊢m\")\n",
          "(april \"⍴ filteredx\")\n",
          "(flamegraph:save-flame-graph (\"/mnt/some.flame\") \n",
          "  (blah))\n",
          ";;;;;;;;;;;\n",
          "; CL-USER> (defun foo ()\n",
          ";            (sleep 0.01))\n",
          "; FOO\n",
          "; CL-USER> (defun bar ()\n",
          ";            (sleep 0.05))\n",
          "; BAR\n",
          "; CL-USER> (defun blah ()\n",
          ";            (loop repeat 1000\n",
          ";                  do (foo)\n",
          ";                     (bar)))\n",
          ";;;;;;;;;;;\n",
          "(april \"filteredy←{+/+/g×⍵}⌺3 3⊢m\")\n",
          "(write-array (april \"255⌊0⌈⌈filteredy÷kernelsum\"))\n",
          "(april \"255⌊0⌈⌈filteredy÷kernelsum\")\n",
          "(write-array (april \"255⌊0⌈⌈filteredx÷kernelsum\"))\n",
          "(april-f \"kernel× 3 3 ⍴ ⍳9\")\n",
          "(april \"⊢⌺3 3⊢littlem\")\n",
          "(april \"+/,{+/+/⍵}⌺3 3⊢304 540 ⍴ ⍳20\")\n",
          "(april-f \"⊢⌺3 3⊢6 5 ⍴ ⍳5\")\n",
          "(write-array (april \"m\"))\n",
          "(ql:system-apropos \"monitor\")\n",
          "(ql:quickload \"cl-monitors\")\n",
          "(ql:quickload \"chronicity\")\n",
          "(ql:system-apropos \"oni\")\n",
          "(cl-monitors:monitor \"ff\" )\n",
          "(ql:quickload :flamegraph)\n"
          ]
         },

         {
         "cell_type": "code",
         "execution_count":null,
         "metadata": {},
         "outputs": [],
         "source":
         [
          "  (april-f \"Gy←(⊂g)×sub_mats\")      ; gradient in y\n"
          ]
         },

         {
         "cell_type": "code",
         "execution_count":null,
         "metadata": {},
         "outputs": [],
         "source":
         [
          "  (april-f \"filteredx ←(¯2+(⍴m)[1]) (¯2+(⍴m)[2]) ⍴ +/¨+/¨Gx\")\n",
          "(april \"filteredx[1 2 3;]\")\n"
          ]
         },

         {
         "cell_type": "code",
         "execution_count":null,
         "metadata": {},
         "outputs": [],
         "source":
         [
          "  (april-f \"filteredy ←(¯2+(⍴m)[1]) (¯2+(⍴m)[2]) ⍴ +/¨+/¨Gy\")\n"
          ]
         },

         {
         "cell_type": "code",
         "execution_count":null,
         "metadata": {},
         "outputs": [],
         "source":
         [
          "  ; now only keep if above a threshhold\n",
          "  ; (april \"filtered←filtered×filtered<150\")\n",
          "  ;\n"
          ]
         },

         {
         "cell_type": "code",
         "execution_count":null,
         "metadata": {},
         "outputs": [],
         "source":
         [
          "  ; sobel\n",
          "  (april-f \"final←((filteredx*2)+filteredy*2)*0.5\")\n"
          ]
         },

         {
         "cell_type": "code",
         "execution_count":null,
         "metadata": {},
         "outputs": [],
         "source":
         [
          "(write-array\n",
          "    (april \"255⌊0⌈⌈final÷kernelsum\"))\n"
          ]
         },

         {
         "cell_type": "code",
         "execution_count":null,
         "metadata": {},
         "outputs": [],
         "source":
         [
          "(april \"final×final<50\")\n",
          "(write-array\n",
          "    (april \"255⌊0⌈⌈final×final>200÷kernelsum\"))\n"
          ]
         },


         {
         "cell_type": "code",
         "execution_count":null,
         "metadata": {},
         "outputs": [],
         "source":
         [
          "(april \"f←{⎕←⍵ ⋄ ⍵} ⋄ f\\1 2 3\")\n",
          "(april \"f←{⍺,⍵} ⋄ f/1 2 3\")\n"
          ]
         },

         {
         "cell_type": "code",
         "execution_count":null,
         "metadata": {},
         "outputs": [],
         "source":
         [
          "(write-array (april-c \"{5 5 3 ↑⍵}\" (opticl:read-png-file \"./images/sia.png\")))\n",
          "(april-c \"{⍴⍵}\" (opticl:read-png-file \"./images/sia.png\"))\n",
          "(april \"(+/÷(¯1↑⍴)) 5 5 3 ⍴ ⍳75\")\n",
          "(april \"5 5 3 ⍴ ⍳75\")\n",
          "(+ 1 2 (print (+ 3 3)))\n",
          "(april \"2 2⌷5 5 ⍴⍳50\")\n",
          "; +/⍵ ÷ ⍴⍵ \n",
          "(april (test))\n",
          "(uiop:directory-files \".\" )\n",
          "(let ((pid (sb-posix:getpid)))\n",
          "  (uiop:run-program (format nil \"cat /proc/~A/cmdline\" pid)\n",
          "                    :output t))\n"
          ]
         },

         {
         "cell_type": "code",
         "execution_count":null,
         "metadata": {},
         "outputs": [],
         "source":
         [
          "(remove-if #'evenp (alexandria:iota 50))\n",
          "(delete-file )\n"
          ]
         },

         {
         "cell_type": "code",
         "execution_count":null,
         "metadata": {},
         "outputs": [],
         "source":
         [
          "(type-of (april::array-to-list *sia*))\n",
          "(type-of *sia*)\n"
          ]
         },

         {
         "cell_type": "code",
         "execution_count":null,
         "metadata": {},
         "outputs": [],
         "source":
         [
          ";;;;;;;;;;;;;;;;;;;;;;;;;;;;;;;;;\n",
          "(april \"⍴(⍳2)∘.× ⍬ ∘.× (⍳4)\")\n",
          "(april \"⍴+⌿(⍳2)∘.× ⍬ ∘.× (⍳4)\")\n",
          "(april \"+⌿+⌿(⍳2)∘.× ⍬ ∘.× (⍳4)\")\n",
          "(april \"a←(⍳2)∘.× ⍬ ∘.× (⍳4)\")\n",
          "(setf aa (april \"a\"))\n",
          "(april-c \"{⍴⍵}\" aa)\n",
          "(type-of aa)\n",
          "(april \"⍬≡1↓'a'\")\n",
          "(april \"⍬≡''\")\n"
          ]
         },

         {
         "cell_type": "code",
         "execution_count":null,
         "metadata": {},
         "outputs": [],
         "source":
         [
          "(april \"⍬∘., 1 2 3\")\n"
          ]
         },

         {
         "cell_type": "code",
         "execution_count":null,
         "metadata": {},
         "outputs": [],
         "source":
         [
          "(type-of (april \"⍬ ∘.× (⍳4)\"))\n",
          "(type-of (april \"(⍳2)∘.× ⍬ ∘.× (⍳4)\"))\n",
          "(type-of (april \"+⌿(⍳2)∘.× ⍬ ∘.× (⍳4)\"))\n",
          "(april-f \"⍳2 3\")\n"
          ]
         },

         {
         "cell_type": "code",
         "execution_count":null,
         "metadata": {},
         "outputs": [],
         "source":
         [
          "(april \"⍬≡1↓'apple'\")\n",
          "(april \"⍬≡1↓1↑4↓1↓'apple'\")\n",
          ";;;;;;;;;;;;;;;;;;;;;;;;;;;;;;;;;\n",
          "(uiop:run-program \"ls -la /home/containeruser/quicklisp\" :output t )\n",
          "(load \"/home/containeruser/quicklisp/local-projects/april/demos/ncurses/loader.lisp\")\n",
          "(load \"/home/containeruser/quicklisp/local-projects/april/demos/ncurses/loader.lisp\")\n",
          "(ql:quickload \"croatoan\")\n"
          ]
         },

         {
         "cell_type": "code",
         "execution_count":null,
         "metadata": {},
         "outputs": [],
         "source":
         [
          "(april-f \"+/3 2 ⍴ 1 2 3 (⊂4 5)\")\n"
          ]
         },

         {
         "cell_type": "code",
         "execution_count":null,
         "metadata": {},
         "outputs": [],
         "source":
         [
          "(april \"2 ,⍥÷ 5\")\n",
          "(april \"5⍨ 2 6\")\n",
          "(april \"7 (5⍨) 2 6\")\n",
          "(april \"(×/÷⊢) 1 2 3 4 5\")\n"
          ]
         },




         {
         "cell_type": "code",
         "execution_count":null,
         "metadata": {},
         "outputs": [],
         "source":
         [
          "; blur the result?\n",
          "(april-f \"⊢kernel←3 3 ⍴ 0 ¯1 0 ¯1 5 ¯1 0 ¯1 0\")\n",
          "(april \"res←{(+/÷≢),⍵}⌺3 3⊢mask×255\")\n",
          "(april \"boxBlur←{(⌊+/÷≢),⍵}⌺3 3\")\n",
          "(write-array (april \"res\"))\n",
          "(april \"(+/÷≢),3 3 ⍴ ⍳9\")\n",
          "(april \"'APPLE'∊13↑⎕a\")\n",
          "(write-array (april \"{0⌈255⌊+/,kernel×⍵}⌺3 3⊢⌊res\"))\n"
          ]
         },

         {
         "cell_type": "code",
         "execution_count":null,
         "metadata": {},
         "outputs": [],
         "source":
         [
          "(write-array (april \"boxBlur img\"))\n"
          ]
         }],

 "metadata": {
  "kernelspec": {
   "display_name": "Common Lisp",
   "language": "common-lisp",
   "name": "common-lisp"
  },
  "language_info": {
   "codemirror_mode": "text/x-common-lisp",
   "file_extension": ".lisp",
   "mimetype": "text/x-common-lisp",
   "name": "common-lisp",
   "pygments_lexer": "common-lisp",
   "version": "2.0.10"
  }
 },
 "nbformat": 4,
 "nbformat_minor": 4
}

