{
"cells": [


{
"cell_type": "code",
"execution_count":null,
"metadata": {},
"outputs": [],
"source":
[
 "; Welcome to a Jupyter notebook!\n"
 ]
},

{
"cell_type": "code",
"execution_count":null,
"metadata": {},
"outputs": [],
"source":
[
 "; Why are we in a Jupyter notebook?\n",
 "; \n",
 "; We will be learning, editing, and running code in this notebook.\n"
 ]
},


{
"cell_type": "code",
"execution_count":null,
"metadata": {},
"outputs": [],
"source":
[
 "; What is Jupyter?\n",
 ";\n",
 "; Computational Notebook (notebooks for code)\n"
 ]
},

{
"cell_type": "code",
"execution_count":null,
"metadata": {},
"outputs": [],
"source":
[
 "; What can you do in a Jupyter notebook?\n",
 "; \n",
 "; - look at code and the results of running the code\n",
 "; - edit the code\n",
 "; - run the code\n"
 ]
},

{
"cell_type": "code",
"execution_count":null,
"metadata": {},
"outputs": [],
"source":
[
 "; Because it is a computational notebook things are not hidden from you:\n"
 ]
},

{
"cell_type": "code",
"execution_count":null,
"metadata": {},
"outputs": [],
"source":
[
 "(ql:quickload \"april\") \n",
 "(ql:quickload \"opticl\")\n",
 "(ql:quickload \"drakma\")\n",
 "(ql:quickload \"alexandria\")\n"
 ]
},

{
"cell_type": "code",
"execution_count":null,
"metadata": {},
"outputs": [],
"source":
[
 "(defpackage :image-filtering \n",
 "  (:nicknames :im)\n",
 "  (:use :common-lisp :april :opticl :drakma :alexandria))\n",
 "(in-package :im)\n",
 "(load \"src/utils.lisp\")\n"
 ]
},

{
"cell_type": "code",
"execution_count":null,
"metadata": {},
"outputs": [],
"source":
[
 "; What is APL?\n",
 ";   \"A Programming Language\"\n"
 ]
},

{
"cell_type": "code",
"execution_count":null,
"metadata": {},
"outputs": [],
"source":
[
 "; APL (the idea)\n",
 ";\n",
 ";    rules   (syntax)\n",
 ";    and\n",
 ";    meaning (semantics)\n",
 ";\n"
 ]
},

{
"cell_type": "code",
"execution_count":null,
"metadata": {},
"outputs": [],
"source":
[
 "; APLs (the versions)\n",
 "; \n",
 "; Some APLs include:\n",
 ";   Dyalog, GNU APL, and April\n"
 ]
},

{
"cell_type": "code",
"execution_count":null,
"metadata": {},
"outputs": [],
"source":
[
 "; You can edit images with APL among many other things\n"
 ]
},

{
"cell_type": "code",
"execution_count":null,
"metadata": {},
"outputs": [],
"source":
[
 "; What are images?\n"
 ]
},
 
{
"cell_type": "code",
"execution_count":null,
"metadata": {},
"outputs": [],
"source":
[
 "; Is this an image?\n",
 "(april-f \"0 0 0 0 0 0 0 1 0 0 1 0 0 0 0 0 0 0 0 1 0 0 1 0 0 0 1 1 0 0\")\n"
 ]
},

{
"cell_type": "code",
"execution_count":null,
"metadata": {},
"outputs": [],
"source":
[
 "; Image Representation\n",
 "(write-array-as-png (april-f \"200 × 5 6 ⍴ 0 0 0 0 0 0 0 1 0 0 1 0 0 0 0 0 0 0 0 1 0 0 1 0 0 0 1 1 0 0\"))\n"
 ]
},

{
"cell_type": "code",
"execution_count":null,
"metadata": {},
"outputs": [],
"source":
[
 "; Because images are represented as numbers we need some math to work with them\n"
 ]
},


{
"cell_type": "code",
"execution_count":null,
"metadata": {},
"outputs": [],
"source":
[
 "; In APL, most math symbols do what you would expect them to do\n",
 ";\n",
 "; = + - ÷ × etc.\n"
 ]
},

{
"cell_type": "code",
"execution_count":null,
"metadata": {},
"outputs": [],
"source":
[
 "; APL is a small language\n"
 ]
},

{
"cell_type": "code",
"execution_count":null,
"metadata": {},
"outputs": [],
"source":
[
 "; How small?\n"
 ]
},

{
"cell_type": "code",
"execution_count":null,
"metadata": {},
"outputs": [],
"source":
[
 "; TODO now load the symbols\n"
 ]
},

{
"cell_type": "code",
"execution_count":null,
"metadata": {},
"outputs": [],
"source":
[
 "; var script = document.createElement (\"script\");\n",
 "; script.src = \"https://abrudz.github.io/lb/lb.js\";\n",
 "; document.body.appendChild (script);\n"
 ]
},


{
"cell_type": "code",
"execution_count":null,
"metadata": {},
"outputs": [],
"source":
[
 "; APL is designed to be mnemonic\n",
 "; \n",
 "; https://www.merriam-webster.com/dictionary/mnemonic\n"
 ]
},



{
"cell_type": "code",
"execution_count":null,
"metadata": {},
"outputs": [],
"source":
[
 "; Behind every image on a computer there are just numbers\n",
 ";\n",
 "; For this class those numbers are: 0 through 255\n",
 "; \n",
 "; 0   is black\n",
 "; 255 is white\n"
 ]
},

{
"cell_type": "code",
"execution_count":null,
"metadata": {},
"outputs": [],
"source":
[
 "(download-jpg \"http://images6.fanpop.com/image/photos/38400000/Sia-at-SNL-sia-38410276-540-304.jpg\"\n",
 "              \"sia.png\")\n"
 ]
},

{
"cell_type": "code",
"execution_count":null,
"metadata": {},
"outputs": [],
"source":
[
 "; Pixel\n"
 ]
},

{
"cell_type": "code",
"execution_count":null,
"metadata": {},
"outputs": [],
"source":
[
 "(setf *sia* (opticl:read-png-file \"sia.png\"))\n"
 ]
},

{
"cell_type": "code",
"execution_count":null,
"metadata": {},
"outputs": [],
"source":
[
 "(april (with (:state :in ((img *sia*))))  \"m←⌊(+/img)÷¯1↑⍴img ⋄ m[1;]\")\n"
 ]
         },



         {
         "cell_type": "code",
         "execution_count":null,
         "metadata": {},
         "outputs": [],
         "source":
         [
          "; Terms\n",
          ";\n",
          "; We need to learn some words used in APL\n"
          ]
         },

         {
         "cell_type": "code",
         "execution_count":null,
         "metadata": {},
         "outputs": [],
         "source":
         [
          "; Scalar\n",
          "(april \"1\")\n"
          ]
         },


         {
         "cell_type": "code",
         "execution_count":null,
         "metadata": {},
         "outputs": [],
         "source":
         [
          "; Vector\n",
          "(april \"2 4 6 8\")\n"
          ]
         },

         {
         "cell_type": "code",
         "execution_count":null,
         "metadata": {},
         "outputs": [],
         "source":
         [
          "; Dimensions, Rank, Shape\n"
          ]
         },

         {
         "cell_type": "code",
         "execution_count":null,
         "metadata": {},
         "outputs": [],
         "source":
         [
          "(april \"⍴1\")\n"
          ]
         },

         {
         "cell_type": "code",
         "execution_count":null,
         "metadata": {},
         "outputs": [],
         "source":
         [
          "(april \"⍴2 4 6 8\")\n"
          ]
         },

         {
         "cell_type": "code",
         "execution_count":null,
         "metadata": {},
         "outputs": [],
         "source":
         [
          "(april \"⍴⍴ 2 4 6 8\")\n"
          ]
         },


         {
         "cell_type": "code",
         "execution_count":null,
         "metadata": {},
         "outputs": [],
         "source":
         [
          "; Matrix a.k.a \"Array\"  a.k.a \"grid \n"
          ]
         },

         {
         "cell_type": "code",
         "execution_count":null,
         "metadata": {},
         "outputs": [],
         "source":
         [
          "(april-f \"4 4 ⍴ 1 2 3\" )\n"
          ]
         },

         {
         "cell_type": "code",
         "execution_count":null,
         "metadata": {},
         "outputs": [],
         "source":
         [
          "(april  \"⍴4 4 ⍴ 1 2 3\" )\n"
          ]
         },

         {
         "cell_type": "code",
         "execution_count":null,
         "metadata": {},
         "outputs": [],
         "source":
         [
          "(april \"⍴⍴4 4 ⍴ 1 2 3\" )\n"
          ]
         },

         {
         "cell_type": "code",
         "execution_count":null,
         "metadata": {},
         "outputs": [],
         "source":
         [
          "; Function:\n"
          ]
         },

         {
         "cell_type": "code",
         "execution_count":null,
         "metadata": {},
         "outputs": [],
         "source":
         [
          "; Operands: TODO\n"
          ]
         },

         {
         "cell_type": "code",
         "execution_count":null,
         "metadata": {},
         "outputs": [],
         "source":
         [
          "; Monadic Function\n"
          ]
         },

         {
         "cell_type": "code",
         "execution_count":null,
         "metadata": {},
         "outputs": [],
         "source":
         [
          "(april \"÷ 9\")\n"
          ]
         },

         {
         "cell_type": "code",
         "execution_count":null,
         "metadata": {},
         "outputs": [],
         "source":
         [
          "; Dyadic Function\n"
          ]
         },

         {
         "cell_type": "code",
         "execution_count":null,
         "metadata": {},
         "outputs": [],
         "source":
         [
          "(april \"4 + 6\")\n"
          ]
         },

         {
         "cell_type": "code",
         "execution_count":null,
         "metadata": {},
         "outputs": [],
         "source":
         [
          "; Nested\n"
          ]
         },

         {
         "cell_type": "code",
         "execution_count":null,
         "metadata": {},
         "outputs": [],
         "source":
         [
          "; Item\n"
          ]
         },

         {
         "cell_type": "code",
         "execution_count":null,
         "metadata": {},
         "outputs": [],
         "source":
         [
          "; Axis\n"
          ]
         },



         {
         "cell_type": "code",
         "execution_count":null,
         "metadata": {},
         "outputs": [],
         "source":
         [
          "; Functions and Operators\n"
          ]
         },

         {
         "cell_type": "code",
         "execution_count":null,
         "metadata": {},
         "outputs": [],
         "source":
         [
          "; ←\n",
          "; assignment\n"
          ]
         },

         {
         "cell_type": "code",
         "execution_count":null,
         "metadata": {},
         "outputs": [],
         "source":
         [
          "(april \"sam←3 4 5\")\n"
          ]
         },

         {
         "cell_type": "code",
         "execution_count":null,
         "metadata": {},
         "outputs": [],
         "source":
         [
          "(april \"sam\")\n"
          ]
         },

         {
         "cell_type": "code",
         "execution_count":null,
         "metadata": {},
         "outputs": [],
         "source":
         [
          "(april \"sam + 2\")\n"
          ]
         },

         {
         "cell_type": "code",
         "execution_count":null,
         "metadata": {},
         "outputs": [],
         "source":
         [
          "; ⍳\n"
          ]
         },

         {
         "cell_type": "code",
         "execution_count":null,
         "metadata": {},
         "outputs": [],
         "source":
         [
          "(april \"⍳9\")\n"
          ]
         },

         {
         "cell_type": "code",
         "execution_count":null,
         "metadata": {},
         "outputs": [],
         "source":
         [
          "; ⍴\n",
          "; monadic ⍴ tells you the shape of something\n"
          ]
         },

         {
         "cell_type": "code",
         "execution_count":null,
         "metadata": {},
         "outputs": [],
         "source":
         [
          "(april \"⍴ 2 4 6 8 10\")\n"
          ]
         },

         {
         "cell_type": "code",
         "execution_count":null,
         "metadata": {},
         "outputs": [],
         "source":
         [
          "(april \"⍴ sam\")\n"
          ]
         },

         {
         "cell_type": "code",
         "execution_count":null,
         "metadata": {},
         "outputs": [],
         "source":
         [
          "; dyadic ⍴ reshapes\n",
          "(april \"15 ⍴ sam\")\n",
          "; Read as: \"15 reshape sam\" makes a vector 15 items long using sam\n"
          ]
         },



         {
         "cell_type": "code",
         "execution_count":null,
         "metadata": {},
         "outputs": [],
         "source":
         [
          "(april \"v←0 0 0 0 0 0 0 0 0 0 0 0 0 0 0 0 0 0 0 0 0 0 0 0 0 0 1 168 168 168 168 168 168 168 0 0 0 0 0 0 0 0 0 0 0 168 168 168 168 168 168 168 168 168 168 168 0 0 0 0 0 0 0 0 168 168 168 168 168 168 168 168 168 168 168 168 168 0 0 0 0 0 0 168 168 168 168 0 0 168 168 168 82 0 168 168 168 168 0 0 0 0 168 168 168 168 168 0 0 168 168 168 0 0 168 168 168 168 168 0 0 2 168 168 168 168 168 0 0 168 168 168 0 0 168 168 168 168 168 0 0 168 168 168 168 168 168 0 0 168 168 168 0 0 168 168 168 168 168 168 0 168 168 168 168 168 168 0 0 168 168 168 0 0 168 168 168 168 168 168 0 168 168 168 168 168 168 168 168 168 168 168 168 86 168 168 168 168 168 168 0 168 168 168 168 168 168 168 168 168 168 168 168 168 168 168 168 152 168 168 0 168 168 0 168 168 168 168 168 168 168 168 168 168 168 168 168 0 168 168 0 168 168 153 168 168 168 168 168 168 168 168 168 168 168 168 168 152 168 168 0 168 168 168 151 168 168 168 168 168 168 168 168 168 168 168 0 168 168 168 0 0 168 168 0 168 168 168 168 168 168 168 168 168 168 168 144 168 168 0 0 93 168 168 168 0 168 168 168 168 168 168 168 168 168 0 168 168 168 88 0 145 0 168 168 168 142 0 168 168 168 168 168 0 168 168 168 168 168 142 0 168 0 0 168 168 168 168 168 4 0 9 168 168 168 168 168 0 34 168 0 150 121 40 0 168 168 168 168 168 168 168 168 168 168 168 168 37 0 150 0 0 168 168 53 168 0 168 168 168 168 168 168 168 0 168 0 168 157 0\")\n"
          ]
         },

         {
         "cell_type": "code",
         "execution_count":null,
         "metadata": {},
         "outputs": [],
         "source":
         [
          "(april \"m←20 20 ⍴ v\")\n"
          ]
         },

         {
         "cell_type": "code",
         "execution_count":null,
         "metadata": {},
         "outputs": [],
         "source":
         [
          "; notice the -f\n",
          "(april-f \"m\")\n"
          ]
         },

         {
         "cell_type": "code",
         "execution_count":null,
         "metadata": {},
         "outputs": [],
         "source":
         [
          "(write-array-as-png (april \"m\"))\n"
          ]
         },


         {
         "cell_type": "code",
         "execution_count":null,
         "metadata": {},
         "outputs": [],
         "source":
         [
          "; ⍉\n",
          "; Transpose\n"
          ]
         },

         {
         "cell_type": "code",
         "execution_count":null,
         "metadata": {},
         "outputs": [],
         "source":
         [
          "(april \"⎕←twenty_five_square←5 5 ⍴ ⍳25\")\n"
          ]
         },

         {
         "cell_type": "code",
         "execution_count":null,
         "metadata": {},
         "outputs": [],
         "source":
         [
          "(april-f \"twenty_five_square\")\n"
          ]
         },

         {
         "cell_type": "code",
         "execution_count":null,
         "metadata": {},
         "outputs": [],
         "source":
         [
          "(april-f \"⍉twenty_five_square\")\n"
          ]
         },

         {
         "cell_type": "code",
         "execution_count":null,
         "metadata": {},
         "outputs": [],
         "source":
         [
          "(write-array-as-png (april \"⍉m\"))\n"
          ]
         },

         {
         "cell_type": "code",
         "execution_count":null,
         "metadata": {},
         "outputs": [],
         "source":
         [
          "(write-array-as-png (april \"⍉⍉m\"))\n"
          ]
         },

         {
         "cell_type": "code",
         "execution_count":null,
         "metadata": {},
         "outputs": [],
         "source":
         [
          "; ,\n"
          ]
         },

         {
         "cell_type": "code",
         "execution_count":null,
         "metadata": {},
         "outputs": [],
         "source":
         [
          "(april \"20 30 40,sam\")\n"
          ]
         },


         {
         "cell_type": "code",
         "execution_count":null,
         "metadata": {},
         "outputs": [],
         "source":
         [
          "; ⎕\n",
          "; look\n"
          ]
         },

         {
         "cell_type": "code",
         "execution_count":null,
         "metadata": {},
         "outputs": [],
         "source":
         [
          "(april \"⎕← 8 7 6\" )\n"
          ]
         },

         {
         "cell_type": "code",
         "execution_count":null,
         "metadata": {},
         "outputs": [],
         "source":
         [
          "; ⋄\n"
          ]
         },

         {
         "cell_type": "code",
         "execution_count":null,
         "metadata": {},
         "outputs": [],
         "source":
         [
          "(april \"1 ⋄ 2\" )\n"
          ]
         },

         {
         "cell_type": "code",
         "execution_count":null,
         "metadata": {},
         "outputs": [],
         "source":
         [
          "(april \"⎕←1 ⋄ 2\" )\n"
          ]
         },

         {
         "cell_type": "code",
         "execution_count":null,
         "metadata": {},
         "outputs": [],
         "source":
         [
          "(april \"⎕←1 ⋄ 2 ⋄ 99\" )\n"
          ]
         },

         {
         "cell_type": "code",
         "execution_count":null,
         "metadata": {},
         "outputs": [],
         "source":
         [
          "; [ ]\n"
          ]
         },

         {
         "cell_type": "code",
         "execution_count":null,
         "metadata": {},
         "outputs": [],
         "source":
         [
          "(april \"sam[1]\")\n"
          ]
         },

         {
         "cell_type": "code",
         "execution_count":null,
         "metadata": {},
         "outputs": [],
         "source":
         [
          "(april \"⎕←m ⋄ 0\")\n"
          ]
         },

         {
         "cell_type": "code",
         "execution_count":null,
         "metadata": {},
         "outputs": [],
         "source":
         [
          "(april \"m[1;]\")\n"
          ]
         },


         {
         "cell_type": "code",
         "execution_count":null,
         "metadata": {},
         "outputs": [],
         "source":
         [
          "; +/\n"
          ]
         },

         {
         "cell_type": "code",
         "execution_count":null,
         "metadata": {},
         "outputs": [],
         "source":
         [
          "(april \"+/1 3 5 7\")\n"
          ]
         },

         {
         "cell_type": "code",
         "execution_count":null,
         "metadata": {},
         "outputs": [],
         "source":
         [
          "(april \"+/sam\")\n"
          ]
         },

         {
         "cell_type": "code",
         "execution_count":null,
         "metadata": {},
         "outputs": [],
         "source":
         [
          "; ⌈\n"
          ]
         },

         {
         "cell_type": "code",
         "execution_count":null,
         "metadata": {},
         "outputs": [],
         "source":
         [
          "(april \"⌈4.2\")\n"
          ]
         },

         {
         "cell_type": "code",
         "execution_count":null,
         "metadata": {},
         "outputs": [],
         "source":
         [
          "; ⌊\n"
          ]
         },

         {
         "cell_type": "code",
         "execution_count":null,
         "metadata": {},
         "outputs": [],
         "source":
         [
          "(april \"⌊4.2\")\n"
          ]
         },

         {
         "cell_type": "code",
         "execution_count":null,
         "metadata": {},
         "outputs": [],
         "source":
         [
          "; |\n",
          "; remainder\n"
          ]
         },

         {
         "cell_type": "code",
         "execution_count":null,
         "metadata": {},
         "outputs": [],
         "source":
         [
          "(april \"5|10\")\n",
          "; 10 divided by 5 is 2 and the remainder is 0\n"
          ]
         },

         {
         "cell_type": "code",
         "execution_count":null,
         "metadata": {},
         "outputs": [],
         "source":
         [
          "(april \"5|9\")\n",
          "; 9 divided by 5 is 1 and the remainder is 4\n"
          ]
         },

         {
         "cell_type": "code",
         "execution_count":null,
         "metadata": {},
         "outputs": [],
         "source":
         [
          "; ¨\n"
          ]
         },

         {
         "cell_type": "code",
         "execution_count":null,
         "metadata": {},
         "outputs": [],
         "source":
         [
          "(april \"÷5\")\n"
          ]
         },


         {
         "cell_type": "code",
         "execution_count":null,
         "metadata": {},
         "outputs": [],
         "source":
         [
          "; {}\n"
          ]
         },

         {
         "cell_type": "code",
         "execution_count":null,
         "metadata": {},
         "outputs": [],
         "source":
         [
          "; ⊂\n"
          ]
         },

         {
         "cell_type": "code",
         "execution_count":null,
         "metadata": {},
         "outputs": [],
         "source":
         [
          "; ⊃\n"
          ]
         },

         {
         "cell_type": "code",
         "execution_count":null,
         "metadata": {},
         "outputs": [],
         "source":
         [
          "; ∘.\n"
          ]
         },

         {
         "cell_type": "code",
         "execution_count":null,
         "metadata": {},
         "outputs": [],
         "source":
         [
          "; *\n"
          ]
         },


         {
         "cell_type": "code",
         "execution_count":null,
         "metadata": {},
         "outputs": [],
         "source":
         [
          ";;;;;;;;;;;;;;;\n"
          ]
         },


         {
         "cell_type": "code",
         "execution_count":null,
         "metadata": {},
         "outputs": [],
         "source":
         [
          "(jupyter:file \"/tmp/la0.png\")\n"
          ]
         },



         {
         "cell_type": "code",
         "execution_count":null,
         "metadata": {},
         "outputs": [],
         "source":
         [
          "(download-jpg  \"https://static.wikia.nocookie.net/homealone/images/4/47/Download-0.jpg/revision/latest/scale-to-width-down/259?cb=20170724041438\" \"some.jpg\")\n",
          "(setf *wet-bandits* (opticl:read-jpeg-file \"some.jpg\"))\n"
          ]
         },

         {
         "cell_type": "code",
         "execution_count":null,
         "metadata": {},
         "outputs": [],
         "source":
         [
          "(jupyter:file \"/tmp/la0.jpg\")\n"
          ]
         },

         {
         "cell_type": "code",
         "execution_count":null,
         "metadata": {},
         "outputs": [],
         "source":
         [
          "(uiop:run-program \"identify /tmp/la0.jpg\" :output t)\n",
          "(uiop:run-program \"file /tmp/la0.jpg\" :output t)\n"
          ]
         },

         {
         "cell_type": "code",
         "execution_count":null,
         "metadata": {},
         "outputs": [],
         "source":
         [
          "; get the image into april\n",
          "(april (with (:state :in ((a *wet-bandits*)))) \"img←a\")\n"
          ]
         },

         {
         "cell_type": "code",
         "execution_count":null,
         "metadata": {},
         "outputs": [],
         "source":
         [
          "(list-all-packages)\n"
          ]
         },

         {
         "cell_type": "code",
         "execution_count":null,
         "metadata": {},
         "outputs": [],
         "source":
         [
          "(april \"⍴img\")\n"
          ]
         },

         {
         "cell_type": "code",
         "execution_count":null,
         "metadata": {},
         "outputs": [],
         "source":
         [
          "; to grayscale\n",
          "(april \"m←⌊(+/img)÷¯1↑⍴img\")\n"
          ]
         },

         {
         "cell_type": "code",
         "execution_count":null,
         "metadata": {},
         "outputs": [],
         "source":
         [
          "(april \"⍴m\")\n",
          "; notice we've lost a dimension (axis?)\n"
          ]
         },

         {
         "cell_type": "code",
         "execution_count":null,
         "metadata": {},
         "outputs": [],
         "source":
         [
          "(april \"m\")\n"
          ]
         },

         {
         "cell_type": "code",
         "execution_count":null,
         "metadata": {},
         "outputs": [],
         "source":
         [
          "(jupyter:file (namestring (write-array-as-png (april:april \"⎕←m\"))))\n"
          ]
         },


         {
         "cell_type": "code",
         "execution_count":null,
         "metadata": {},
         "outputs": [],
         "source":
         [
          "(write-array-as-png (april \"⎕←100 100 ⍴ 100?200\"))\n"
          ]
         },

         {
         "cell_type": "code",
         "execution_count":null,
         "metadata": {},
         "outputs": [],
         "source":
         [
          "(run \"⎕←100 100 ⍴ 100?200\")\n",
          "; https://www.keyence.com/ss/products/auto_id/barcode_lecture/basic/mechanism/\n",
          "; homework, make a barcode?\n"
          ]
         },


         {
         "cell_type": "code",
         "execution_count":null,
         "metadata": {},
         "outputs": [],
         "source":
         [
          ";;;;;;;;;;;\n"
          ]
         },


         {
         "cell_type": "code",
         "execution_count":null,
         "metadata": {},
         "outputs": [],
         "source":
         [
          "(april \"img\")\n",
          "(april \"m←⌊(+/img)÷¯1↑⍴img\")\n",
          "(april \"res←{⍺,≢⍵} ⌸ ,m\")\n",
          "(april-f \"sorted←res[⍋⌽res;]\")\n",
          "(april-f \"sorted←res[⍒res;]\")\n",
          "(april \"values←sorted[⍳1⊃⍴sorted;1]\") ; values\n",
          "(april \"counts←sorted[⍳1⊃⍴sorted;2]\") ; counts\n",
          "(write-array-as-png (april \"(⍴m) ⍴ counts/values\"))\n"
          ]
         },




         {
         "cell_type": "code",
         "execution_count":null,
         "metadata": {},
         "outputs": [],
         "source":
         [
          "; TODO note that the wet bandits, after sobel, seem to have \n",
          "; extra information. jpeg artifacts?\n"
          ]
         },

         {
         "cell_type": "code",
         "execution_count":null,
         "metadata": {},
         "outputs": [],
         "source":
         [
          "; one shot\n",
          "(progn\n",
          "  (april \"one← ¯1  0  1\")\n",
          "  (april \"two← ¯2  0  2\")\n",
          "  (april \"thr← ¯1  0  1\")\n",
          "  (april \"kernel←3 3 ⍴ one,two,thr\")\n",
          "  (april-f \"kernelsum←1⌈|⌊+/+/kernel\") ; the sum's absolute value\n",
          "  (april \"g←⍉kernel\")\n",
          "  (april-f \"pairs←,(¯1+⍳(¯2+(⍴m)[1]))∘.,¯1+⍳(¯2+(⍴m)[2])\")\n",
          "  (april \"get_submats←{row←⍵[1]⋄col←⍵[2]⋄m[row+⍳3;col+⍳3]}\")\n",
          "  (april \"sub_mats←get_submats¨pairs\")\n",
          "  (april-f \"Gx←(⊂kernel)×sub_mats\") ; gradient in x\n",
          "  (april-f \"Gy←(⊂g)×sub_mats\")      ; gradient in y\n",
          "  (april-f \"filteredx ←(¯2+(⍴m)[1]) (¯2+(⍴m)[2]) ⍴ +/¨+/¨Gx\")\n",
          "  (april-f \"filteredy ←(¯2+(⍴m)[1]) (¯2+(⍴m)[2]) ⍴ +/¨+/¨Gy\")\n",
          "  ; now only keep if above a threshhold\n",
          "  ; (april \"filtered←filtered×filtered<150\")\n"
          ]
         },

         {
         "cell_type": "code",
         "execution_count":null,
         "metadata": {},
         "outputs": [],
         "source":
         [
          "  ; sobel\n",
          "  (april-f \"final←((filteredx*2)+filteredy*2)*0.5\")\n",
          "  (write-array-as-png\n",
          "    (april \"255⌊0⌈⌈final÷kernelsum\")))\n"
          ]
         }
         ],
 "metadata": {
  "kernelspec": {
   "display_name": "Common Lisp",
   "language": "common-lisp",
   "name": "common-lisp"
  },
  "language_info": {
   "codemirror_mode": "text/x-common-lisp",
   "file_extension": ".lisp",
   "mimetype": "text/x-common-lisp",
   "name": "common-lisp",
   "pygments_lexer": "common-lisp",
   "version": "2.0.10"
  }
 },
 "nbformat": 4,
 "nbformat_minor": 4
}
